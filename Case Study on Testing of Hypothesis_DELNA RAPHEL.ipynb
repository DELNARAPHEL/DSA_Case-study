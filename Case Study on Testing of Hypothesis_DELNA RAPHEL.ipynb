{
 "cells": [
  {
   "cell_type": "markdown",
   "id": "e9bbbbf4",
   "metadata": {},
   "source": [
    "# Case Study on Testing of Hypothesis"
   ]
  },
  {
   "cell_type": "markdown",
   "id": "7cfde155",
   "metadata": {},
   "source": [
    "### Input:-A company started to invest in digital marketing as a new way of their product promotions.For that they collected data and decided to carry out a study on it."
   ]
  },
  {
   "cell_type": "code",
   "execution_count": 1,
   "id": "b31f7348",
   "metadata": {},
   "outputs": [],
   "source": [
    "#importing the relevant libraries\n",
    "import pandas as pd\n",
    "import numpy as np\n",
    "from scipy import stats"
   ]
  },
  {
   "cell_type": "code",
   "execution_count": 2,
   "id": "5b58b204",
   "metadata": {},
   "outputs": [
    {
     "name": "stdout",
     "output_type": "stream",
     "text": [
      "<class 'pandas.core.frame.DataFrame'>\n",
      "RangeIndex: 22 entries, 0 to 21\n",
      "Data columns (total 5 columns):\n",
      " #   Column                          Non-Null Count  Dtype \n",
      "---  ------                          --------------  ----- \n",
      " 0   Month                           22 non-null     object\n",
      " 1   Region                          22 non-null     object\n",
      " 2   Manager                         22 non-null     object\n",
      " 3   Sales_before_digital_add(in $)  22 non-null     int64 \n",
      " 4   Sales_After_digital_add(in $)   22 non-null     int64 \n",
      "dtypes: int64(2), object(3)\n",
      "memory usage: 1008.0+ bytes\n"
     ]
    }
   ],
   "source": [
    "#reading the data\n",
    "data=pd.read_csv(r'C:/Users/DELNA.RAPHEL/Desktop/DSA/Assignment_week_08/Sales_add.csv')\n",
    "data.info()"
   ]
  },
  {
   "cell_type": "code",
   "execution_count": 3,
   "id": "733d601f",
   "metadata": {},
   "outputs": [
    {
     "data": {
      "text/html": [
       "<div>\n",
       "<style scoped>\n",
       "    .dataframe tbody tr th:only-of-type {\n",
       "        vertical-align: middle;\n",
       "    }\n",
       "\n",
       "    .dataframe tbody tr th {\n",
       "        vertical-align: top;\n",
       "    }\n",
       "\n",
       "    .dataframe thead th {\n",
       "        text-align: right;\n",
       "    }\n",
       "</style>\n",
       "<table border=\"1\" class=\"dataframe\">\n",
       "  <thead>\n",
       "    <tr style=\"text-align: right;\">\n",
       "      <th></th>\n",
       "      <th>Month</th>\n",
       "      <th>Region</th>\n",
       "      <th>Manager</th>\n",
       "      <th>Sales_before_digital_add(in $)</th>\n",
       "      <th>Sales_After_digital_add(in $)</th>\n",
       "    </tr>\n",
       "  </thead>\n",
       "  <tbody>\n",
       "    <tr>\n",
       "      <th>0</th>\n",
       "      <td>Month-1</td>\n",
       "      <td>Region - A</td>\n",
       "      <td>Manager - A</td>\n",
       "      <td>132921</td>\n",
       "      <td>270390</td>\n",
       "    </tr>\n",
       "    <tr>\n",
       "      <th>1</th>\n",
       "      <td>Month-2</td>\n",
       "      <td>Region - A</td>\n",
       "      <td>Manager - C</td>\n",
       "      <td>149559</td>\n",
       "      <td>223334</td>\n",
       "    </tr>\n",
       "    <tr>\n",
       "      <th>2</th>\n",
       "      <td>Month-3</td>\n",
       "      <td>Region - B</td>\n",
       "      <td>Manager - A</td>\n",
       "      <td>146278</td>\n",
       "      <td>244243</td>\n",
       "    </tr>\n",
       "    <tr>\n",
       "      <th>3</th>\n",
       "      <td>Month-4</td>\n",
       "      <td>Region - B</td>\n",
       "      <td>Manager - B</td>\n",
       "      <td>152167</td>\n",
       "      <td>231808</td>\n",
       "    </tr>\n",
       "    <tr>\n",
       "      <th>4</th>\n",
       "      <td>Month-5</td>\n",
       "      <td>Region - C</td>\n",
       "      <td>Manager - B</td>\n",
       "      <td>159525</td>\n",
       "      <td>258402</td>\n",
       "    </tr>\n",
       "  </tbody>\n",
       "</table>\n",
       "</div>"
      ],
      "text/plain": [
       "     Month      Region      Manager  Sales_before_digital_add(in $)  \\\n",
       "0  Month-1  Region - A  Manager - A                          132921   \n",
       "1  Month-2  Region - A  Manager - C                          149559   \n",
       "2  Month-3  Region - B  Manager - A                          146278   \n",
       "3  Month-4  Region - B  Manager - B                          152167   \n",
       "4  Month-5  Region - C  Manager - B                          159525   \n",
       "\n",
       "   Sales_After_digital_add(in $)  \n",
       "0                         270390  \n",
       "1                         223334  \n",
       "2                         244243  \n",
       "3                         231808  \n",
       "4                         258402  "
      ]
     },
     "execution_count": 3,
     "metadata": {},
     "output_type": "execute_result"
    }
   ],
   "source": [
    "data.head()"
   ]
  },
  {
   "cell_type": "markdown",
   "id": "42be9eca",
   "metadata": {},
   "source": [
    "#### ● The company wishes to clarify whether there is any increase in sales after stepping into digital marketing.\n",
    "- consider sample1=Sales_before_digital_ad,\n",
    " sample2=Sales_After_digital_add"
   ]
  },
  {
   "cell_type": "code",
   "execution_count": 4,
   "id": "39bb3cec",
   "metadata": {},
   "outputs": [
    {
     "data": {
      "text/html": [
       "<div>\n",
       "<style scoped>\n",
       "    .dataframe tbody tr th:only-of-type {\n",
       "        vertical-align: middle;\n",
       "    }\n",
       "\n",
       "    .dataframe tbody tr th {\n",
       "        vertical-align: top;\n",
       "    }\n",
       "\n",
       "    .dataframe thead th {\n",
       "        text-align: right;\n",
       "    }\n",
       "</style>\n",
       "<table border=\"1\" class=\"dataframe\">\n",
       "  <thead>\n",
       "    <tr style=\"text-align: right;\">\n",
       "      <th></th>\n",
       "      <th>Sales_before_digital_add(in $)</th>\n",
       "      <th>Sales_After_digital_add(in $)</th>\n",
       "    </tr>\n",
       "  </thead>\n",
       "  <tbody>\n",
       "    <tr>\n",
       "      <th>count</th>\n",
       "      <td>22.000000</td>\n",
       "      <td>22.000000</td>\n",
       "    </tr>\n",
       "    <tr>\n",
       "      <th>mean</th>\n",
       "      <td>149239.954545</td>\n",
       "      <td>231123.727273</td>\n",
       "    </tr>\n",
       "    <tr>\n",
       "      <th>std</th>\n",
       "      <td>14844.042921</td>\n",
       "      <td>25556.777061</td>\n",
       "    </tr>\n",
       "    <tr>\n",
       "      <th>min</th>\n",
       "      <td>130263.000000</td>\n",
       "      <td>187305.000000</td>\n",
       "    </tr>\n",
       "    <tr>\n",
       "      <th>25%</th>\n",
       "      <td>138087.750000</td>\n",
       "      <td>214960.750000</td>\n",
       "    </tr>\n",
       "    <tr>\n",
       "      <th>50%</th>\n",
       "      <td>147444.000000</td>\n",
       "      <td>229986.500000</td>\n",
       "    </tr>\n",
       "    <tr>\n",
       "      <th>75%</th>\n",
       "      <td>157627.500000</td>\n",
       "      <td>250909.000000</td>\n",
       "    </tr>\n",
       "    <tr>\n",
       "      <th>max</th>\n",
       "      <td>178939.000000</td>\n",
       "      <td>276279.000000</td>\n",
       "    </tr>\n",
       "  </tbody>\n",
       "</table>\n",
       "</div>"
      ],
      "text/plain": [
       "       Sales_before_digital_add(in $)  Sales_After_digital_add(in $)\n",
       "count                       22.000000                      22.000000\n",
       "mean                    149239.954545                  231123.727273\n",
       "std                      14844.042921                   25556.777061\n",
       "min                     130263.000000                  187305.000000\n",
       "25%                     138087.750000                  214960.750000\n",
       "50%                     147444.000000                  229986.500000\n",
       "75%                     157627.500000                  250909.000000\n",
       "max                     178939.000000                  276279.000000"
      ]
     },
     "execution_count": 4,
     "metadata": {},
     "output_type": "execute_result"
    }
   ],
   "source": [
    "#checking the statistical values of the samples using describe function\n",
    "data[['Sales_before_digital_add(in $)','Sales_After_digital_add(in $)']].describe()"
   ]
  },
  {
   "cell_type": "markdown",
   "id": "18027bd3",
   "metadata": {},
   "source": [
    "- sample size=22.\n",
    "- mean of second sample is greater than the first one.i.e, there is a increase in sales before and after digital marketing."
   ]
  },
  {
   "cell_type": "markdown",
   "id": "855f1a4f",
   "metadata": {},
   "source": [
    "###### *Hypothesis testing\n",
    "\n",
    "*Null Hypothesis\n",
    "H0 :- There is no increase in sales after digital marketing\n",
    "\n",
    "*Alternate Hypothesis\n",
    "H1:- There is an increase in sales after digital marketing\n",
    "\n",
    "- Consider,\n",
    "- Level of significance=5%\n",
    "\n",
    "We are going with paired sample t-test because:\n",
    "\n",
    "- The sample size is less than 30 and we are comparing the mean of the same group at different times(before and after advertisement.)\n"
   ]
  },
  {
   "cell_type": "code",
   "execution_count": 5,
   "id": "89b25644",
   "metadata": {},
   "outputs": [
    {
     "name": "stdout",
     "output_type": "stream",
     "text": [
      "test statistic is -12.09070525287017\n",
      "p-value is 6.336667004575778e-11\n",
      "\n",
      "Reject null hypothesis\n"
     ]
    }
   ],
   "source": [
    "t_score,pval = stats.ttest_rel(data['Sales_before_digital_add(in $)'],data['Sales_After_digital_add(in $)'])\n",
    "print('test statistic is',t_score)\n",
    "print('p-value is',(pval))\n",
    "\n",
    "#considering the level of significance=5%\n",
    "if pval<0.05:\n",
    "    print(\"\\nReject null hypothesis\")\n",
    "else:\n",
    "    print(\"\\nAccept null hypothesis\")\n"
   ]
  },
  {
   "cell_type": "code",
   "execution_count": 6,
   "id": "bebfeca2",
   "metadata": {},
   "outputs": [
    {
     "name": "stdout",
     "output_type": "stream",
     "text": [
      "degree of freedom is 21\n",
      "tcritical is 1.7207429028118775\n"
     ]
    }
   ],
   "source": [
    "#degree of freedom\n",
    "#df=n-1\n",
    "df=data['Sales_before_digital_add(in $)'].count()-1\n",
    "print('degree of freedom is',df)\n",
    "\n",
    "#T critical value for a one-tailed test \n",
    "tcritical=stats.t.ppf(1-0.05,21)\n",
    "print('tcritical is',tcritical)"
   ]
  },
  {
   "cell_type": "markdown",
   "id": "7700558c",
   "metadata": {},
   "source": [
    "*The test statistic is -12.09070525287017.(-ve sign Indicates the mean of sample_2 is greater than mean of sample_1.The absolute value of test statistic is > than tcritical.\n",
    "\n",
    "*p-value is 6.336667004575778e-11 is < than 0.05(significance level.) \n",
    "\n",
    "*Hence,we can reject null hypothesis and conclude, there is an increase in Sales before and after digital marketing."
   ]
  },
  {
   "cell_type": "markdown",
   "id": "2e8cdb5b",
   "metadata": {},
   "source": [
    "#### ● The company needs to check whether there is any dependency between thefeatures “Region” and “Manager”."
   ]
  },
  {
   "cell_type": "markdown",
   "id": "316b9031",
   "metadata": {},
   "source": [
    "We are going with Chi-Squared test for independence because:\n",
    "\n",
    "-we need to check the dependency for categorical variables.\n",
    "\n",
    "* Null Hypothesis:H0:There is no dependency between Region and Manager\n",
    "\n",
    "* Alternative Hypothesis:There is dependency between Region and manager\n"
   ]
  },
  {
   "cell_type": "code",
   "execution_count": 7,
   "id": "1638a266",
   "metadata": {},
   "outputs": [
    {
     "data": {
      "text/html": [
       "<div>\n",
       "<style scoped>\n",
       "    .dataframe tbody tr th:only-of-type {\n",
       "        vertical-align: middle;\n",
       "    }\n",
       "\n",
       "    .dataframe tbody tr th {\n",
       "        vertical-align: top;\n",
       "    }\n",
       "\n",
       "    .dataframe thead th {\n",
       "        text-align: right;\n",
       "    }\n",
       "</style>\n",
       "<table border=\"1\" class=\"dataframe\">\n",
       "  <thead>\n",
       "    <tr style=\"text-align: right;\">\n",
       "      <th>Manager</th>\n",
       "      <th>Manager - A</th>\n",
       "      <th>Manager - B</th>\n",
       "      <th>Manager - C</th>\n",
       "    </tr>\n",
       "    <tr>\n",
       "      <th>Region</th>\n",
       "      <th></th>\n",
       "      <th></th>\n",
       "      <th></th>\n",
       "    </tr>\n",
       "  </thead>\n",
       "  <tbody>\n",
       "    <tr>\n",
       "      <th>Region - A</th>\n",
       "      <td>4</td>\n",
       "      <td>3</td>\n",
       "      <td>3</td>\n",
       "    </tr>\n",
       "    <tr>\n",
       "      <th>Region - B</th>\n",
       "      <td>4</td>\n",
       "      <td>1</td>\n",
       "      <td>2</td>\n",
       "    </tr>\n",
       "    <tr>\n",
       "      <th>Region - C</th>\n",
       "      <td>1</td>\n",
       "      <td>3</td>\n",
       "      <td>1</td>\n",
       "    </tr>\n",
       "  </tbody>\n",
       "</table>\n",
       "</div>"
      ],
      "text/plain": [
       "Manager     Manager - A  Manager - B  Manager - C\n",
       "Region                                           \n",
       "Region - A            4            3            3\n",
       "Region - B            4            1            2\n",
       "Region - C            1            3            1"
      ]
     },
     "execution_count": 7,
     "metadata": {},
     "output_type": "execute_result"
    }
   ],
   "source": [
    "#converting the data into a table with frequencies\n",
    "observed_values= data.groupby('Region')['Manager'].value_counts().unstack()\n",
    "observed_values"
   ]
  },
  {
   "cell_type": "markdown",
   "id": "c49f846a",
   "metadata": {},
   "source": [
    "This is also known as contingency table.It is a tabular representation of frequencies for particular combinations of values of two discrete random variables."
   ]
  },
  {
   "cell_type": "code",
   "execution_count": 8,
   "id": "2aa13c69",
   "metadata": {},
   "outputs": [
    {
     "name": "stdout",
     "output_type": "stream",
     "text": [
      "Chi-Squared statistic is 3.050566893424036\n",
      "p-value is 0.5493991051158094\n",
      "degree of freedom is 21\n",
      "\n",
      "expected_values=\n",
      " [[4.09090909 3.18181818 2.72727273]\n",
      " [2.86363636 2.22727273 1.90909091]\n",
      " [2.04545455 1.59090909 1.36363636]]\n"
     ]
    }
   ],
   "source": [
    "#Performing Chi-square test and\n",
    "# finding Chi-Squared statistic,p-value,degree of freedom,Expected frequency.\n",
    "c,p,dof,expected= stats.chi2_contingency(observed_values)\n",
    "\n",
    "print('Chi-Squared statistic is',c)\n",
    "print('p-value is',p)\n",
    "print('degree of freedom is',df)#Degree of freedom=(row count-1)(column count-1)\n",
    "\n",
    "#Expected frequency = (row sum * column sum) / table sum\n",
    "print('\\nexpected_values=\\n',expected)"
   ]
  },
  {
   "cell_type": "code",
   "execution_count": 9,
   "id": "e6882978",
   "metadata": {},
   "outputs": [
    {
     "name": "stdout",
     "output_type": "stream",
     "text": [
      "chi2_critical_value is  9.487729036781154\n",
      "\n",
      "Accept null hypothesis\n"
     ]
    }
   ],
   "source": [
    "chi2_critical_value = stats.chi2.ppf(1-0.05,4)# 5% significance level and df=4\n",
    "print('chi2_critical_value is ',chi2_critical_value)\n",
    "\n",
    "if(c>chi2_critical_value and p<0.05):\n",
    "    print(\"\\nReject null hypothesis\")\n",
    "else:\n",
    "    print(\"\\nAccept null hypothesis\")"
   ]
  },
  {
   "cell_type": "markdown",
   "id": "15be4f5c",
   "metadata": {},
   "source": [
    "* There is no dependency between Region and Manager."
   ]
  }
 ],
 "metadata": {
  "kernelspec": {
   "display_name": "Python 3",
   "language": "python",
   "name": "python3"
  },
  "language_info": {
   "codemirror_mode": {
    "name": "ipython",
    "version": 3
   },
   "file_extension": ".py",
   "mimetype": "text/x-python",
   "name": "python",
   "nbconvert_exporter": "python",
   "pygments_lexer": "ipython3",
   "version": "3.8.8"
  }
 },
 "nbformat": 4,
 "nbformat_minor": 5
}
